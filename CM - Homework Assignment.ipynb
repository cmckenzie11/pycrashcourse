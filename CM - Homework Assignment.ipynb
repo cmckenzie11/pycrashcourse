{
 "cells": [
  {
   "cell_type": "markdown",
   "metadata": {},
   "source": [
    "# Exercise 1\n",
    "\n",
    "## Write a program that accepts sequences of lines and prints the lines capitalized"
   ]
  },
  {
   "cell_type": "code",
   "execution_count": 134,
   "metadata": {},
   "outputs": [],
   "source": [
    "#Define capitilization function, 'uppercase'\n",
    "def uppercase(*args):\n",
    "    \"\"\" Accepts any number of strings and returns those strings in capital letters separated by a space \"\"\"\n",
    "    \n",
    "    #Make an empty list to store the capitalized strings\n",
    "    capitalized = []\n",
    "    \n",
    "    #Capitalize each string and add them to the list\n",
    "    for string in args:\n",
    "        capitalized.append(string.upper())\n",
    "        \n",
    "    #Print each string in the list\n",
    "    for entry in capitalized:\n",
    "        print(entry)"
   ]
  },
  {
   "cell_type": "code",
   "execution_count": 135,
   "metadata": {},
   "outputs": [],
   "source": [
    "#Define strings to be capitalized\n",
    "string1 = \"hello world\"\n",
    "string2 = \"practice makes perfect\""
   ]
  },
  {
   "cell_type": "code",
   "execution_count": 136,
   "metadata": {},
   "outputs": [
    {
     "name": "stdout",
     "output_type": "stream",
     "text": [
      "HELLO WORLD\n",
      "PRACTICE MAKES PERFECT\n"
     ]
    }
   ],
   "source": [
    "#Execute function\n",
    "uppercase(string1, string2)"
   ]
  },
  {
   "cell_type": "markdown",
   "metadata": {},
   "source": [
    "# Exercise 2\n",
    "\n",
    "## Write a program that accepts a sentence and counts the number of letters and digits"
   ]
  },
  {
   "cell_type": "code",
   "execution_count": 126,
   "metadata": {},
   "outputs": [],
   "source": [
    "#Define letter and digit counting function: 'char_count'\n",
    "def char_count(string):\n",
    "    \"\"\"Returns a string containing the number of letters and digits in the original sentence\"\"\"\n",
    "    \n",
    "    #Initialize empty sets for storing letters and digits\n",
    "    letter_count = []\n",
    "    digit_count = []\n",
    "    \n",
    "    #Split up the string into individual characters\n",
    "    split_string = string.split()\n",
    "    \n",
    "    #Go through each character, check if it's a digit and sort accordingly\n",
    "    for character in split_string:\n",
    "        if character.isdigit():\n",
    "            digit_count += character\n",
    "        else:\n",
    "            letter_count += character\n",
    "            \n",
    "    #Print out the number of letters and digits in each list\n",
    "    print('LETTERS ' + str(len(letter_count)))\n",
    "    print('DIGITS ' + str(len(digit_count)))"
   ]
  },
  {
   "cell_type": "code",
   "execution_count": 127,
   "metadata": {},
   "outputs": [
    {
     "name": "stdout",
     "output_type": "stream",
     "text": [
      "LETTERS 11\n",
      "DIGITS 3\n"
     ]
    }
   ],
   "source": [
    "#Execute function\n",
    "char_count('hello world! 123')"
   ]
  },
  {
   "cell_type": "markdown",
   "metadata": {},
   "source": [
    "# Exercise 3\n",
    "\n",
    "## Write a program that checks the validity of user passwords"
   ]
  },
  {
   "cell_type": "code",
   "execution_count": 85,
   "metadata": {},
   "outputs": [],
   "source": [
    "#Import regular expressions\n",
    "import re"
   ]
  },
  {
   "cell_type": "code",
   "execution_count": 124,
   "metadata": {},
   "outputs": [],
   "source": [
    "#Define password checking function pwd_check\n",
    "def pwd_check(*args):\n",
    "    \"\"\"Checks a series of passwords for validity and prints valid passwords\"\"\"\n",
    "    \n",
    "    #Define the password requirements using a regular expression\n",
    "    required_characters = '^(?=.*[a-z])(?=.*[A-Z])(?=.*\\d)(?=.*[$#@])[a-zA-Z\\d$#@]{6,12}$'\n",
    "    \n",
    "    #Initialize lists for saving valid passwords\n",
    "    valid = []\n",
    "    \n",
    "    #Check if passwords are valid and save in valid list if so\n",
    "    for password in args:\n",
    "        if bool(re.search(required_characters, string=password)) == True:\n",
    "            valid.append(password)\n",
    "            \n",
    "    #Print list of valid passwords\n",
    "    print('The following passwords are valid: ' + str(valid))"
   ]
  },
  {
   "cell_type": "code",
   "execution_count": 125,
   "metadata": {},
   "outputs": [
    {
     "name": "stdout",
     "output_type": "stream",
     "text": [
      "The following passwords are valid: ['ABd1234@1']\n"
     ]
    }
   ],
   "source": [
    "#Test it out!\n",
    "pwd_check('ABd1234@1','a F1#','2w3E*','2We3345')"
   ]
  }
 ],
 "metadata": {
  "kernelspec": {
   "display_name": "Python 3",
   "language": "python",
   "name": "python3"
  },
  "language_info": {
   "codemirror_mode": {
    "name": "ipython",
    "version": 3
   },
   "file_extension": ".py",
   "mimetype": "text/x-python",
   "name": "python",
   "nbconvert_exporter": "python",
   "pygments_lexer": "ipython3",
   "version": "3.6.4"
  }
 },
 "nbformat": 4,
 "nbformat_minor": 2
}
